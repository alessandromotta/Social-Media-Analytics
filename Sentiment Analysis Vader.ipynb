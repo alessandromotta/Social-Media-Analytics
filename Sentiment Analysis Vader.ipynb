{
 "cells": [
  {
   "cell_type": "code",
   "execution_count": 760,
   "metadata": {},
   "outputs": [],
   "source": [
    "#import delle librerie\n",
    "import numpy as np\n",
    "import nltk\n",
    "import pandas as pd\n",
    "from nltk import word_tokenize\n",
    "from textblob import TextBlob\n",
    "from nltk.corpus import stopwords\n",
    "import re\n",
    "import pylab\n",
    "from collections import Counter\n",
    "import itertools\n",
    "from nltk import bigrams\n",
    "from nltk.corpus import stopwords\n",
    "import string\n",
    "import seaborn as sns\n",
    "from nltk.stem.lancaster import LancasterStemmer\n",
    "import matplotlib.pyplot as plt\n",
    "import matplotlib.style as style\n",
    "from vaderSentiment.vaderSentiment import SentimentIntensityAnalyzer\n",
    "analyser = SentimentIntensityAnalyzer()\n",
    "import os\n",
    "from PIL import Image\n",
    "import glob\n",
    "from datetime import datetime\n",
    "from nltk.sentiment.vader import SentimentIntensityAnalyzer as vad\n",
    "#nltk.download('punkt')\n",
    "#nltk.download('stopwords')"
   ]
  },
  {
   "cell_type": "code",
   "execution_count": 761,
   "metadata": {},
   "outputs": [
    {
     "name": "stderr",
     "output_type": "stream",
     "text": [
      "/Users/alessandromotta/opt/anaconda3/lib/python3.8/site-packages/IPython/core/interactiveshell.py:3146: DtypeWarning:\n",
      "\n",
      "Columns (11) have mixed types.Specify dtype option on import or set low_memory=False.\n",
      "\n"
     ]
    }
   ],
   "source": [
    "df=pd.read_csv('/Users/alessandromotta/Downloads/vax2.csv', encoding='utf8')"
   ]
  },
  {
   "cell_type": "code",
   "execution_count": 762,
   "metadata": {},
   "outputs": [
    {
     "data": {
      "text/html": [
       "<div>\n",
       "<style scoped>\n",
       "    .dataframe tbody tr th:only-of-type {\n",
       "        vertical-align: middle;\n",
       "    }\n",
       "\n",
       "    .dataframe tbody tr th {\n",
       "        vertical-align: top;\n",
       "    }\n",
       "\n",
       "    .dataframe thead th {\n",
       "        text-align: right;\n",
       "    }\n",
       "</style>\n",
       "<table border=\"1\" class=\"dataframe\">\n",
       "  <thead>\n",
       "    <tr style=\"text-align: right;\">\n",
       "      <th></th>\n",
       "      <th>Unnamed: 0</th>\n",
       "      <th>Unnamed: 0.1</th>\n",
       "      <th>Unnamed: 0.1.1</th>\n",
       "      <th>Unnamed: 0.1.1.1</th>\n",
       "      <th>_id</th>\n",
       "      <th>date</th>\n",
       "      <th>is_RT</th>\n",
       "      <th>location</th>\n",
       "      <th>text</th>\n",
       "      <th>user_id</th>\n",
       "      <th>username</th>\n",
       "      <th>entities</th>\n",
       "    </tr>\n",
       "  </thead>\n",
       "  <tbody>\n",
       "    <tr>\n",
       "      <th>16</th>\n",
       "      <td>16</td>\n",
       "      <td>57</td>\n",
       "      <td>57</td>\n",
       "      <td>57.0</td>\n",
       "      <td>5fcbb347ce2a8e9b3d4d242c</td>\n",
       "      <td>2020-12-05 16:20:18</td>\n",
       "      <td>False</td>\n",
       "      <td>wales, united kingdom</td>\n",
       "      <td>one trust b0ris know v@xx flawed never voted r...</td>\n",
       "      <td>1.271769e+18</td>\n",
       "      <td>Dee Smith #SackVallance #SackWhitty #TrumpWon</td>\n",
       "      <td>NaN</td>\n",
       "    </tr>\n",
       "    <tr>\n",
       "      <th>27</th>\n",
       "      <td>27</td>\n",
       "      <td>105</td>\n",
       "      <td>106</td>\n",
       "      <td>106.0</td>\n",
       "      <td>5fcbb34bce2a8e9b3d4d245d</td>\n",
       "      <td>2020-12-05 16:20:22</td>\n",
       "      <td>False</td>\n",
       "      <td>lavenham, england</td>\n",
       "      <td>favourite meme day, self diagnosed medical exp...</td>\n",
       "      <td>1.169711e+18</td>\n",
       "      <td>Ryan Lynch</td>\n",
       "      <td>NaN</td>\n",
       "    </tr>\n",
       "    <tr>\n",
       "      <th>52</th>\n",
       "      <td>52</td>\n",
       "      <td>173</td>\n",
       "      <td>174</td>\n",
       "      <td>174.0</td>\n",
       "      <td>5fcbb352ce2a8e9b3d4d24a1</td>\n",
       "      <td>2020-12-05 16:20:29</td>\n",
       "      <td>False</td>\n",
       "      <td>uk- wales</td>\n",
       "      <td>six #questions #ask #covid-19 #vaccines | heal...</td>\n",
       "      <td>3.847631e+08</td>\n",
       "      <td>Colin H</td>\n",
       "      <td>NaN</td>\n",
       "    </tr>\n",
       "    <tr>\n",
       "      <th>75</th>\n",
       "      <td>75</td>\n",
       "      <td>268</td>\n",
       "      <td>269</td>\n",
       "      <td>269.0</td>\n",
       "      <td>5fcbb35ace2a8e9b3d4d2500</td>\n",
       "      <td>2020-12-05 16:20:37</td>\n",
       "      <td>False</td>\n",
       "      <td>scarborough, uk</td>\n",
       "      <td>@chillyzag ridiculous get that's think vaccine?</td>\n",
       "      <td>5.925436e+07</td>\n",
       "      <td>LoopyLou</td>\n",
       "      <td>NaN</td>\n",
       "    </tr>\n",
       "    <tr>\n",
       "      <th>88</th>\n",
       "      <td>88</td>\n",
       "      <td>308</td>\n",
       "      <td>309</td>\n",
       "      <td>309.0</td>\n",
       "      <td>5fcbb35ece2a8e9b3d4d2528</td>\n",
       "      <td>2020-12-05 16:20:41</td>\n",
       "      <td>False</td>\n",
       "      <td>s yorkshire, england</td>\n",
       "      <td>@eath1223 take covid vaccine flu vaccine. neit...</td>\n",
       "      <td>2.059544e+07</td>\n",
       "      <td>Yvonne 🐈🇬🇧</td>\n",
       "      <td>NaN</td>\n",
       "    </tr>\n",
       "    <tr>\n",
       "      <th>...</th>\n",
       "      <td>...</td>\n",
       "      <td>...</td>\n",
       "      <td>...</td>\n",
       "      <td>...</td>\n",
       "      <td>...</td>\n",
       "      <td>...</td>\n",
       "      <td>...</td>\n",
       "      <td>...</td>\n",
       "      <td>...</td>\n",
       "      <td>...</td>\n",
       "      <td>...</td>\n",
       "      <td>...</td>\n",
       "    </tr>\n",
       "    <tr>\n",
       "      <th>267621</th>\n",
       "      <td>267621</td>\n",
       "      <td>842350</td>\n",
       "      <td>41532</td>\n",
       "      <td>41532.0</td>\n",
       "      <td>5fe074933f4fea8a8e6413ab</td>\n",
       "      <td>2020-12-21 10:10:22</td>\n",
       "      <td>False</td>\n",
       "      <td>akatsuki</td>\n",
       "      <td>pfizer moderna??</td>\n",
       "      <td>2.411111e+08</td>\n",
       "      <td>Pain Nagato</td>\n",
       "      <td>NaN</td>\n",
       "    </tr>\n",
       "    <tr>\n",
       "      <th>267637</th>\n",
       "      <td>267637</td>\n",
       "      <td>842411</td>\n",
       "      <td>41593</td>\n",
       "      <td>41593.0</td>\n",
       "      <td>5fe0749b3f4fea8a8e6413e8</td>\n",
       "      <td>2020-12-21 10:10:30</td>\n",
       "      <td>False</td>\n",
       "      <td>london, uk</td>\n",
       "      <td>tier 4 covid-19 restriction continue take effe...</td>\n",
       "      <td>3.952675e+07</td>\n",
       "      <td>H&amp;F Council</td>\n",
       "      <td>NaN</td>\n",
       "    </tr>\n",
       "    <tr>\n",
       "      <th>267652</th>\n",
       "      <td>267652</td>\n",
       "      <td>842473</td>\n",
       "      <td>41655</td>\n",
       "      <td>41655.0</td>\n",
       "      <td>5fe074a33f4fea8a8e641426</td>\n",
       "      <td>2020-12-21 10:10:38</td>\n",
       "      <td>False</td>\n",
       "      <td>united kingdom</td>\n",
       "      <td>@jeremyvineon5 elderly father law significant ...</td>\n",
       "      <td>1.314626e+18</td>\n",
       "      <td>ClaireStuart</td>\n",
       "      <td>NaN</td>\n",
       "    </tr>\n",
       "    <tr>\n",
       "      <th>267653</th>\n",
       "      <td>267653</td>\n",
       "      <td>842474</td>\n",
       "      <td>41656</td>\n",
       "      <td>41656.0</td>\n",
       "      <td>5fe074a33f4fea8a8e641427</td>\n",
       "      <td>2020-12-21 10:10:38</td>\n",
       "      <td>False</td>\n",
       "      <td>uk</td>\n",
       "      <td>@moriartyprofj contradicts hancock &amp;amp; johns...</td>\n",
       "      <td>1.019148e+18</td>\n",
       "      <td>Keith</td>\n",
       "      <td>NaN</td>\n",
       "    </tr>\n",
       "    <tr>\n",
       "      <th>267664</th>\n",
       "      <td>267664</td>\n",
       "      <td>842532</td>\n",
       "      <td>41714</td>\n",
       "      <td>41714.0</td>\n",
       "      <td>5fe074ac3f4fea8a8e641461</td>\n",
       "      <td>2020-12-21 10:10:46</td>\n",
       "      <td>False</td>\n",
       "      <td>united kingdom</td>\n",
       "      <td>@reasonoverfear @josephinefitzm1 @michealmarti...</td>\n",
       "      <td>3.292456e+08</td>\n",
       "      <td>CLARE EVANS 💙</td>\n",
       "      <td>NaN</td>\n",
       "    </tr>\n",
       "  </tbody>\n",
       "</table>\n",
       "<p>21825 rows × 12 columns</p>\n",
       "</div>"
      ],
      "text/plain": [
       "        Unnamed: 0  Unnamed: 0.1  Unnamed: 0.1.1  Unnamed: 0.1.1.1  \\\n",
       "16              16            57              57              57.0   \n",
       "27              27           105             106             106.0   \n",
       "52              52           173             174             174.0   \n",
       "75              75           268             269             269.0   \n",
       "88              88           308             309             309.0   \n",
       "...            ...           ...             ...               ...   \n",
       "267621      267621        842350           41532           41532.0   \n",
       "267637      267637        842411           41593           41593.0   \n",
       "267652      267652        842473           41655           41655.0   \n",
       "267653      267653        842474           41656           41656.0   \n",
       "267664      267664        842532           41714           41714.0   \n",
       "\n",
       "                             _id                 date  is_RT  \\\n",
       "16      5fcbb347ce2a8e9b3d4d242c  2020-12-05 16:20:18  False   \n",
       "27      5fcbb34bce2a8e9b3d4d245d  2020-12-05 16:20:22  False   \n",
       "52      5fcbb352ce2a8e9b3d4d24a1  2020-12-05 16:20:29  False   \n",
       "75      5fcbb35ace2a8e9b3d4d2500  2020-12-05 16:20:37  False   \n",
       "88      5fcbb35ece2a8e9b3d4d2528  2020-12-05 16:20:41  False   \n",
       "...                          ...                  ...    ...   \n",
       "267621  5fe074933f4fea8a8e6413ab  2020-12-21 10:10:22  False   \n",
       "267637  5fe0749b3f4fea8a8e6413e8  2020-12-21 10:10:30  False   \n",
       "267652  5fe074a33f4fea8a8e641426  2020-12-21 10:10:38  False   \n",
       "267653  5fe074a33f4fea8a8e641427  2020-12-21 10:10:38  False   \n",
       "267664  5fe074ac3f4fea8a8e641461  2020-12-21 10:10:46  False   \n",
       "\n",
       "                     location  \\\n",
       "16      wales, united kingdom   \n",
       "27          lavenham, england   \n",
       "52                  uk- wales   \n",
       "75            scarborough, uk   \n",
       "88       s yorkshire, england   \n",
       "...                       ...   \n",
       "267621               akatsuki   \n",
       "267637             london, uk   \n",
       "267652         united kingdom   \n",
       "267653                     uk   \n",
       "267664         united kingdom   \n",
       "\n",
       "                                                     text       user_id  \\\n",
       "16      one trust b0ris know v@xx flawed never voted r...  1.271769e+18   \n",
       "27      favourite meme day, self diagnosed medical exp...  1.169711e+18   \n",
       "52      six #questions #ask #covid-19 #vaccines | heal...  3.847631e+08   \n",
       "75       @chillyzag ridiculous get that's think vaccine?   5.925436e+07   \n",
       "88      @eath1223 take covid vaccine flu vaccine. neit...  2.059544e+07   \n",
       "...                                                   ...           ...   \n",
       "267621                                  pfizer moderna??   2.411111e+08   \n",
       "267637  tier 4 covid-19 restriction continue take effe...  3.952675e+07   \n",
       "267652  @jeremyvineon5 elderly father law significant ...  1.314626e+18   \n",
       "267653  @moriartyprofj contradicts hancock &amp; johns...  1.019148e+18   \n",
       "267664  @reasonoverfear @josephinefitzm1 @michealmarti...  3.292456e+08   \n",
       "\n",
       "                                             username entities  \n",
       "16      Dee Smith #SackVallance #SackWhitty #TrumpWon      NaN  \n",
       "27                                         Ryan Lynch      NaN  \n",
       "52                                            Colin H      NaN  \n",
       "75                                           LoopyLou      NaN  \n",
       "88                                         Yvonne 🐈🇬🇧      NaN  \n",
       "...                                               ...      ...  \n",
       "267621                                    Pain Nagato      NaN  \n",
       "267637                                    H&F Council      NaN  \n",
       "267652                                   ClaireStuart      NaN  \n",
       "267653                                          Keith      NaN  \n",
       "267664                                  CLARE EVANS 💙      NaN  \n",
       "\n",
       "[21825 rows x 12 columns]"
      ]
     },
     "execution_count": 762,
     "metadata": {},
     "output_type": "execute_result"
    }
   ],
   "source": [
    "df['location']=df.location.str.lower()\n",
    "df=df[df.location.str.contains('uk|england|united kingdom' , na=False)]\n",
    "df"
   ]
  },
  {
   "cell_type": "code",
   "execution_count": 763,
   "metadata": {},
   "outputs": [],
   "source": [
    "del df['Unnamed: 0']\n",
    "del df['Unnamed: 0.1']\n",
    "del df['Unnamed: 0.1.1']\n",
    "del df['Unnamed: 0.1.1.1']\n",
    "del df['entities']\n",
    "del df['is_RT']"
   ]
  },
  {
   "cell_type": "code",
   "execution_count": 764,
   "metadata": {},
   "outputs": [],
   "source": [
    "df = df.rename(columns={'_id':'id'})"
   ]
  },
  {
   "cell_type": "code",
   "execution_count": 765,
   "metadata": {},
   "outputs": [
    {
     "data": {
      "text/plain": [
       "Index(['id', 'date', 'location', 'text', 'user_id', 'username'], dtype='object')"
      ]
     },
     "execution_count": 765,
     "metadata": {},
     "output_type": "execute_result"
    }
   ],
   "source": [
    "df.columns"
   ]
  },
  {
   "cell_type": "code",
   "execution_count": 766,
   "metadata": {},
   "outputs": [],
   "source": [
    "df.location = df.location.str.lower() "
   ]
  },
  {
   "cell_type": "code",
   "execution_count": 767,
   "metadata": {},
   "outputs": [],
   "source": [
    "def clean(x):\n",
    "    return str(x).encode('ascii', 'ignore').decode('UTF-8')"
   ]
  },
  {
   "cell_type": "code",
   "execution_count": 768,
   "metadata": {},
   "outputs": [],
   "source": [
    "df.text = df.text.str.lower() \n",
    "#convert text to lower-case\n",
    "\n",
    "df.text=df.text.str.replace(r'((www\\.[^\\s]+)|(https?://[^\\s]+))', r'', regex=True)\n",
    "#toglie link\n",
    "\n",
    "df.text=df.text.str.replace(r'@[^\\s]+', r'', regex=True)\n",
    "#toglie username\n",
    "\n",
    "df.text=df.text.str.replace(r'\\n', r' ', regex=True)\n",
    "#sostituisce \\n con spazio\n",
    "\n",
    "df.text=df.text.str.replace(r'#([^\\s]+)', r'\\1', regex=True)\n",
    "#toglie hashtags\n",
    "\n",
    "#df['tokenized_text'] =  df['text'].apply(word_tokenize) \n",
    "#tokenize in una nuova colonna"
   ]
  },
  {
   "cell_type": "code",
   "execution_count": 769,
   "metadata": {},
   "outputs": [],
   "source": [
    "df.text=df.text.str.replace(r'(<br\\s*/><br\\s*/>)|(\\-)|(\\/)', r' ', regex=True)\n",
    "\n",
    "#elimina simboli"
   ]
  },
  {
   "cell_type": "code",
   "execution_count": 770,
   "metadata": {},
   "outputs": [],
   "source": [
    "stop_words=[]"
   ]
  },
  {
   "cell_type": "code",
   "execution_count": 771,
   "metadata": {},
   "outputs": [],
   "source": [
    "emoticons=[]"
   ]
  },
  {
   "cell_type": "code",
   "execution_count": 772,
   "metadata": {},
   "outputs": [],
   "source": [
    "df['text'] = df['text'].astype(str)"
   ]
  },
  {
   "cell_type": "code",
   "execution_count": 773,
   "metadata": {},
   "outputs": [],
   "source": [
    "def clean_tweets(tweet):\n",
    " \n",
    "    stop_words = set(stopwords.words('english'))\n",
    "    word_tokens = nltk.word_tokenize(str(df.text))\n",
    "#after tweepy preprocessing the colon symbol left remain after removing mentions\n",
    "    tweet = re.sub(r':', '', tweet)\n",
    "    tweet = re.sub(r'‚Ä¶', '', tweet)\n",
    "#replace consecutive non-ASCII characters with a space\n",
    "    tweet = re.sub(r'[^\\x00-\\x7F]+',' ', tweet)\n",
    "#filter using NLTK library append it to a string\n",
    "    filtered_tweet = [w for w in word_tokens if not w in stop_words]\n",
    "    filtered_tweet = []\n",
    "#looping through conditions\n",
    "    for w in word_tokens:\n",
    "#check tokens against stop words\n",
    "        if w not in stop_words and w not in emoticons:\n",
    "            filtered_tweet.append(w)\n",
    "    return ' '.join(filtered_tweet)\n",
    "    #print(word_tokens)\n",
    "    #print(filtered_sentence)return tweet"
   ]
  },
  {
   "cell_type": "code",
   "execution_count": 774,
   "metadata": {},
   "outputs": [
    {
     "data": {
      "text/plain": [
       "16        16 one trust b0ris know v flawed never voted r...\n",
       "27        16 one trust b0ris know v flawed never voted r...\n",
       "52        16 one trust b0ris know v flawed never voted r...\n",
       "75        16 one trust b0ris know v flawed never voted r...\n",
       "88        16 one trust b0ris know v flawed never voted r...\n",
       "                                ...                        \n",
       "267621    16 one trust b0ris know v flawed never voted r...\n",
       "267637    16 one trust b0ris know v flawed never voted r...\n",
       "267652    16 one trust b0ris know v flawed never voted r...\n",
       "267653    16 one trust b0ris know v flawed never voted r...\n",
       "267664    16 one trust b0ris know v flawed never voted r...\n",
       "Name: text, Length: 21825, dtype: object"
      ]
     },
     "execution_count": 774,
     "metadata": {},
     "output_type": "execute_result"
    }
   ],
   "source": [
    "df.text.apply(lambda x : clean_tweets(x))"
   ]
  },
  {
   "cell_type": "code",
   "execution_count": 775,
   "metadata": {},
   "outputs": [
    {
     "data": {
      "text/plain": [
       "['i',\n",
       " 'me',\n",
       " 'my',\n",
       " 'myself',\n",
       " 'we',\n",
       " 'our',\n",
       " 'ours',\n",
       " 'ourselves',\n",
       " 'you',\n",
       " \"you're\",\n",
       " \"you've\",\n",
       " \"you'll\",\n",
       " \"you'd\",\n",
       " 'your',\n",
       " 'yours',\n",
       " 'yourself',\n",
       " 'yourselves',\n",
       " 'he',\n",
       " 'him',\n",
       " 'his']"
      ]
     },
     "execution_count": 775,
     "metadata": {},
     "output_type": "execute_result"
    }
   ],
   "source": [
    "\n",
    "stop =stopwords.words('english')\n",
    "stop[:20]"
   ]
  },
  {
   "cell_type": "code",
   "execution_count": 776,
   "metadata": {},
   "outputs": [
    {
     "name": "stdout",
     "output_type": "stream",
     "text": [
      "!\"#$%&'()*+,-./:;<=>?@[\\]^_`{|}~\n"
     ]
    }
   ],
   "source": [
    "punctuation = string.punctuation\n",
    "print(punctuation)"
   ]
  },
  {
   "cell_type": "markdown",
   "metadata": {},
   "source": [
    "# Stemming"
   ]
  },
  {
   "cell_type": "code",
   "execution_count": 777,
   "metadata": {},
   "outputs": [],
   "source": [
    "# Function to get the counter\n",
    "def get_counter(df):\n",
    "  sentences = (list(itertools.chain(df)))\n",
    "  flat_list = [item for sublist in sentences for item in sublist]\n",
    "  c = Counter(flat_list)\n",
    "  return c"
   ]
  },
  {
   "cell_type": "code",
   "execution_count": 778,
   "metadata": {},
   "outputs": [
    {
     "ename": "SyntaxError",
     "evalue": "invalid syntax (<ipython-input-778-6c664ade8831>, line 6)",
     "output_type": "error",
     "traceback": [
      "\u001b[0;36m  File \u001b[0;32m\"<ipython-input-778-6c664ade8831>\"\u001b[0;36m, line \u001b[0;32m6\u001b[0m\n\u001b[0;31m    x = [item.lower() in for item in tokenized_sentence_stop if item not in punctuation] #remove punctuation\u001b[0m\n\u001b[0m                         ^\u001b[0m\n\u001b[0;31mSyntaxError\u001b[0m\u001b[0;31m:\u001b[0m invalid syntax\n"
     ]
    }
   ],
   "source": [
    "\n",
    "\n",
    "lancaster_stemmer = LancasterStemmer()\n",
    "\n",
    "\n",
    "def preprocess(tokenized_sentence, stopwords=[]):\n",
    "  tokenized_sentence_stop = [item.lower() for item in tokenized_sentence if item.lower() not in set(stopwords)] #remove stopwords and lowercase\n",
    "  x = [item.lower() in for item in tokenized_sentence_stop if item not in punctuation] #remove punctuation \n",
    "  return [lancaster_stemmer.stem(item) for item in x]\n",
    "\n",
    "\n",
    "tweets_tokenized_prep = df.text.apply(lambda x: preprocess(x, stopwords=stop))"
   ]
  },
  {
   "cell_type": "code",
   "execution_count": null,
   "metadata": {},
   "outputs": [],
   "source": [
    "c = get_counter(tweets_tokenized_prep)\n",
    "c.most_common(30)"
   ]
  },
  {
   "cell_type": "code",
   "execution_count": null,
   "metadata": {},
   "outputs": [],
   "source": [
    "sentiment=vad()\n",
    "\n",
    "sen=['Positive','Negative','Neutral']\n",
    "sentiments=[sentiment.polarity_scores(i) for i in df['text'].values]\n",
    "df['Negative Score']=[i['neg'] for i in sentiments]\n",
    "df['Positive Score']=[i['pos'] for i in sentiments]\n",
    "df['Neutral Score']=[i['neu'] for i in sentiments]\n",
    "df['polarity']=[i['compound'] for i in sentiments]\n",
    "score=df['polarity'].values\n",
    "t=[]\n",
    "for i in score:\n",
    "    if i >=0.05 :\n",
    "        t.append('Positive')\n",
    "    elif i<=-0.05 :\n",
    "        t.append('Negative')\n",
    "    else:\n",
    "        t.append('Neutral')\n",
    "df['Overall Sentiment']=t"
   ]
  },
  {
   "cell_type": "markdown",
   "metadata": {},
   "source": [
    "# Moderna vs Pfizer"
   ]
  },
  {
   "cell_type": "code",
   "execution_count": null,
   "metadata": {},
   "outputs": [],
   "source": [
    "df.dropna(axis=1, inplace=True)\n",
    "\n",
    "#vengono definiti i tweets negativi e quelli positivi\n",
    "df['posneg']=df['polarity'].apply(lambda x: 'pos' if x>=0 else 'neg')\n",
    "\n",
    "df['date']= pd.DatetimeIndex(df['date']) + pd.offsets.Hour(2)\n",
    "df.set_index(pd.DatetimeIndex(df['date']), inplace=True)\n",
    "\n",
    "#Vengono selezionati solo i tweets che parlano di Moderna e di Pfizer\n",
    "data_moderna = df[df['text'].str.contains('moderna', case=False)]\n",
    "data_moderna = data_moderna[data_moderna['text'].str.contains('pfizer', case=False) == False]\n",
    "\n",
    "data_pf = df[df['text'].str.contains('pfizer', case=False)]\n",
    "data_pf = data_pf[data_pf['text'].str.contains('moderna', case=False) == False]"
   ]
  },
  {
   "cell_type": "code",
   "execution_count": null,
   "metadata": {},
   "outputs": [],
   "source": [
    "#Viene fatta la media per data per poter visualizzare i dati\n",
    "polarity_series_moderna = data_moderna['polarity']\n",
    "polarity_series_moderna = polarity_series_moderna.resample('D').mean()\n",
    "\n",
    "polarity_series_pf = data_pf['polarity']\n",
    "polarity_series_pf = polarity_series_pf.resample('D').mean()\n",
    "\n",
    "polarity_series_moderna.dropna(inplace=True)\n",
    "polarity_series_pf.dropna(inplace=True)"
   ]
  },
  {
   "cell_type": "code",
   "execution_count": null,
   "metadata": {},
   "outputs": [],
   "source": []
  },
  {
   "cell_type": "code",
   "execution_count": null,
   "metadata": {},
   "outputs": [],
   "source": [
    "\n",
    "\n",
    "moderna_sentita = data_moderna['polarity'].values\n",
    "pfizer_sentita = data_pf['polarity'].values\n",
    "\n",
    "fig = plt.figure()\n",
    "ax = fig.add_subplot(111)\n",
    "\n",
    "ax.hist([moderna, pfizer], color=['red', 'blue'], label=['Moderna', 'pfizer'])\n",
    "ax.legend(loc='upper left')\n",
    "ax.set_xlabel('Sentiment')\n",
    "ax.set_ylabel('Frequency')\n",
    "plt.show()"
   ]
  },
  {
   "cell_type": "code",
   "execution_count": null,
   "metadata": {
    "scrolled": false
   },
   "outputs": [],
   "source": [
    "import matplotlib.pyplot as plt\n",
    "\n",
    "\n",
    "fig = plt.figure(figsize=(10, 5))\n",
    "ax = fig.add_subplot(111)\n",
    "ax.set_title('Moderna vs Pfizer Sentiment')\n",
    "\n",
    "\n",
    "polarity_series_moderna.plot(ax=ax, color='red', label='Moderna_sentiment')\n",
    "polarity_series_pf.plot(ax=ax, color='Blue', label='Pfizer_sentiment')\n",
    "ax.legend(loc='lower right')\n",
    "ax.set_xlabel('Time')\n",
    "ax.set_ylabel('Sentiment')\n",
    "#plt.savefig('ModernaVSPfizer.png')"
   ]
  },
  {
   "cell_type": "code",
   "execution_count": null,
   "metadata": {},
   "outputs": [],
   "source": [
    "df.polarity.value_counts()"
   ]
  },
  {
   "cell_type": "code",
   "execution_count": null,
   "metadata": {},
   "outputs": [],
   "source": [
    "mod = data_moderna['polarity']\n",
    "pfi = data_pf['polarity']\n",
    "\n",
    "print('Moderna sentiment mean: ' + str(round(mod.mean(), 3)))\n",
    "print('Pfizer sentiment mean:' + str(round(pfi.mean(), 3)))\n",
    "print('\\n')\n",
    "\n",
    "print('Moderna sentiment standard deviation: ' + str(round(mod.std(), 3)))\n",
    "print('Pfizer sentiment standard deviation: ' + str(round(pfi.std(), 3)))"
   ]
  },
  {
   "cell_type": "code",
   "execution_count": null,
   "metadata": {},
   "outputs": [],
   "source": [
    "Mod_pos = mod[mod > 0].size\n",
    "Mod_neg = mod[mod < 0].size\n",
    "pfi_pos = pfi[pfi > 0].size\n",
    "pfi_neg = pfi[pfi < 0].size\n",
    "\n",
    "print('Moderna:\\n')\n",
    "print('Positive tweets: ' + str(Mod_pos))\n",
    "print('Negative tweets: ' + str(Mod_neg))\n",
    "print('Percentage of tweets positive: ' + str(round((Mod_pos/(Mod_neg+Mod_pos))*100, 1)) + '%\\n')\n",
    "\n",
    "print('Pfizer:\\n')\n",
    "print('Positive tweets: ' + str(pfi_pos))\n",
    "print('Negative tweets: ' + str(pfi_neg))\n",
    "print('Percentage of tweets positive: ' + str(round((pfi_pos/(pfi_neg+pfi_pos))*100, 1)) + '%\\n')\n",
    "\n",
    "print('TOTAL:\\n')\n",
    "print('Positive tweets: ' + str(pfi_pos + Mod_pos))\n",
    "print('Negative tweets: ' + str(pfi_neg + Mod_neg))\n",
    "print('Percentage of tweets positive: ' + str(round((Mod_pos+pfi_pos)/(Mod_pos+pfi_pos+Mod_neg+pfi_neg)*100, 1)) + '%')"
   ]
  },
  {
   "cell_type": "code",
   "execution_count": null,
   "metadata": {},
   "outputs": [],
   "source": []
  },
  {
   "cell_type": "code",
   "execution_count": null,
   "metadata": {},
   "outputs": [],
   "source": []
  },
  {
   "cell_type": "markdown",
   "metadata": {},
   "source": [
    "# JHONSON VS HANCOCK"
   ]
  },
  {
   "cell_type": "code",
   "execution_count": null,
   "metadata": {},
   "outputs": [],
   "source": [
    "df.dropna(axis=1, inplace=True)\n",
    "\n",
    "#vengono definiti i tweets negativi e quelli positivi\n",
    "df['posneg']=df['polarity'].apply(lambda x: 'pos' if x>=0 else 'neg')\n",
    "\n",
    "df['date']= pd.DatetimeIndex(df['date']) + pd.offsets.Hour(2)\n",
    "df.set_index(pd.DatetimeIndex(df['date']), inplace=True)\n",
    "\n",
    "#Vengono selezionati solo i tweets che parlano di Moderna e di Pfizer\n",
    "data_boris = df[df['text'].str.contains('boris', case=False)]\n",
    "data_boris = data_boris[data_boris['text'].str.contains('hancock|matt', case=False) == False]\n",
    "\n",
    "data_han = df[df['text'].str.contains('hancock|matt', case=False)]\n",
    "data_han = data_han[data_han['text'].str.contains('boris', case=False) == False]\n",
    "\n",
    "#Viene fatta la media per data per poter visualizzare i dati\n",
    "polarity_series_boris = data_boris['polarity']\n",
    "polarity_series_boris = polarity_series_boris.resample('D').mean()\n",
    "\n",
    "polarity_series_han = data_han['polarity']\n",
    "polarity_series_han = polarity_series_han.resample('D').mean()\n",
    "\n",
    "polarity_series_boris.dropna(inplace=True)\n",
    "polarity_series_han.dropna(inplace=True)"
   ]
  },
  {
   "cell_type": "code",
   "execution_count": null,
   "metadata": {},
   "outputs": [],
   "source": [
    "import matplotlib.pyplot as plt\n",
    "\n",
    "boris = data_boris['polarity'].values\n",
    "hancock = data_han['polarity'].values\n",
    "\n",
    "fig = plt.figure()\n",
    "ax = fig.add_subplot(111)\n",
    "\n",
    "ax.hist([boris, hancock], color=['red', 'blue'], label=['Boris Johnson', 'Matt Hancock'])\n",
    "ax.legend(loc='upper left')\n",
    "ax.set_xlabel('Sentiment')\n",
    "ax.set_ylabel('Frequency')\n",
    "plt.show()\n",
    "\n"
   ]
  },
  {
   "cell_type": "code",
   "execution_count": null,
   "metadata": {},
   "outputs": [],
   "source": [
    "import matplotlib.pyplot as plt\n",
    "\n",
    "\n",
    "fig = plt.figure(figsize=(10, 5))\n",
    "ax = fig.add_subplot(111)\n",
    "ax.set_title('Boris Johnson vs Matt Hancock Sentiment')\n",
    "\n",
    "\n",
    "polarity_series_boris.plot(ax=ax, color='red', label='Boris Johnson')\n",
    "polarity_series_han.plot(ax=ax, color='Blue', label='Matt Hancock')\n",
    "ax.legend(loc='lower right')\n",
    "ax.set_xlabel('Time')\n",
    "ax.set_ylabel('Sentiment')\n",
    "#plt.savefig('johnVSHanck.png')"
   ]
  },
  {
   "cell_type": "markdown",
   "metadata": {},
   "source": [
    "# Sky vs BBC"
   ]
  },
  {
   "cell_type": "code",
   "execution_count": null,
   "metadata": {},
   "outputs": [],
   "source": [
    "df.dropna(axis=1, inplace=True)\n",
    "\n",
    "#vengono definiti i tweets negativi e quelli positivi\n",
    "df['posneg']=df['polarity'].apply(lambda x: 'pos' if x>=0 else 'neg')\n",
    "\n",
    "df['date']= pd.DatetimeIndex(df['date']) + pd.offsets.Hour(2)\n",
    "df.set_index(pd.DatetimeIndex(df['date']), inplace=True)\n",
    "\n",
    "#Vengono selezionati solo i tweets che parlano di Moderna e di Pfizer\n",
    "data_bbc = df[df['text'].str.contains('bbcnews|bbc', case=False)]\n",
    "data_bbc = data_bbc[data_bbc['text'].str.contains('skynews|sky', case=False) == False]\n",
    "\n",
    "data_sky = df[df['text'].str.contains('skynews|sky', case=False)]\n",
    "data_sky = data_sky[data_sky['text'].str.contains('bbcnews|bbc', case=False) == False]\n",
    "\n",
    "data_cnn = df[df['text'].str.contains('cnn', case=False)]\n",
    "#data_cnn = data_cnn[data_cnn['text'].str.contains('skynews|sky|bbc', case=False) == False]\n",
    "\n",
    "#Viene fatta la media per data per poter visualizzare i dati\n",
    "polarity_series_bbc = data_bbc['polarity']\n",
    "polarity_series_bbc = polarity_series_bbc.resample('D').mean()\n",
    "\n",
    "polarity_series_sky = data_sky['polarity']\n",
    "polarity_series_sky = polarity_series_sky.resample('D').mean()\n",
    "\n",
    "polarity_series_cnn = data_cnn['polarity']\n",
    "polarity_series_cnn = polarity_series_cnn.resample('D').mean()\n",
    "\n",
    "polarity_series_bbc.dropna(inplace=True)\n",
    "polarity_series_cnn.dropna(inplace=True)\n",
    "polarity_series_sky.dropna(inplace=True)"
   ]
  },
  {
   "cell_type": "code",
   "execution_count": null,
   "metadata": {},
   "outputs": [],
   "source": [
    "data_cnn = data_cnn.loc[data_cnn['id'] != 0]"
   ]
  },
  {
   "cell_type": "code",
   "execution_count": null,
   "metadata": {},
   "outputs": [],
   "source": [
    "import matplotlib.pyplot as plt\n",
    "\n",
    "bbcnews = data_bbc['polarity'].values\n",
    "skynews = data_sky['polarity'].values\n",
    "\n",
    "fig = plt.figure()\n",
    "ax = fig.add_subplot(111)\n",
    "\n",
    "ax.hist([bbcnews, skynews], color=['red', 'blue'], label=['BBCnews', 'Skynews'])\n",
    "ax.legend(loc='upper left')\n",
    "ax.set_xlabel('Sentiment')\n",
    "ax.set_ylabel('Frequency')\n",
    "plt.show()\n",
    "\n",
    "\n"
   ]
  },
  {
   "cell_type": "code",
   "execution_count": null,
   "metadata": {},
   "outputs": [],
   "source": [
    "import matplotlib.pyplot as plt\n",
    "\n",
    "\n",
    "fig = plt.figure(figsize=(10, 5))\n",
    "ax = fig.add_subplot(111)\n",
    "ax.set_title('BBCnews vs Skynews vs CNN')\n",
    "\n",
    "\n",
    "polarity_series_bbc.plot(ax=ax, color='red', label='BBCnews')\n",
    "polarity_series_sky.plot(ax=ax, color='Blue', label='Skynews')\n",
    "polarity_series_cnn.plot(ax=ax, color='Green', label='CNN')\n",
    "ax.legend(loc='lower right')\n",
    "ax.set_xlabel('Time')\n",
    "ax.set_ylabel('Sentiment')"
   ]
  },
  {
   "cell_type": "code",
   "execution_count": null,
   "metadata": {},
   "outputs": [],
   "source": []
  },
  {
   "cell_type": "code",
   "execution_count": null,
   "metadata": {},
   "outputs": [],
   "source": []
  },
  {
   "cell_type": "code",
   "execution_count": null,
   "metadata": {},
   "outputs": [],
   "source": []
  }
 ],
 "metadata": {
  "kernelspec": {
   "display_name": "Python 3",
   "language": "python",
   "name": "python3"
  },
  "language_info": {
   "codemirror_mode": {
    "name": "ipython",
    "version": 3
   },
   "file_extension": ".py",
   "mimetype": "text/x-python",
   "name": "python",
   "nbconvert_exporter": "python",
   "pygments_lexer": "ipython3",
   "version": "3.8.5"
  }
 },
 "nbformat": 4,
 "nbformat_minor": 2
}
