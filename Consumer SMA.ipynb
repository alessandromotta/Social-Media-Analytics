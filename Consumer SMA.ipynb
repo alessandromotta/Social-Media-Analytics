{
 "cells": [
  {
   "cell_type": "code",
   "execution_count": null,
   "metadata": {},
   "outputs": [],
   "source": [
    "from kafka import KafkaConsumer\n",
    "import time\n",
    "import json\n",
    "from pymongo import MongoClient\n",
    "\n",
    "client = MongoClient('mongo', 27017, username='admin', password='DataMan2019!')\n",
    "db=client.Twitter.VaxNew\n",
    "\n",
    "consumer = KafkaConsumer(\n",
    "    bootstrap_servers=[\"kafka:9092\"],\n",
    "    consumer_timeout_ms=1000, \n",
    "    value_deserializer=lambda v: json.loads(v.decode(\"utf-8\")))\n",
    "\t\t\t\t\t\t\t\t\n",
    "consumer.subscribe('partita')\n",
    "\n",
    "\n",
    "\n",
    "\n",
    "\n",
    "while(True):\n",
    "\tfor msgJ in consumer:\n",
    "\t\ttweet = json.loads(msgJ.value)\n",
    "        \n",
    "\t\tdb.tweets.insert_one(tweet)\n",
    "    \n",
    "\t\n",
    "\n",
    "\n"
   ]
  }
 ],
 "metadata": {
  "kernelspec": {
   "display_name": "Python 3",
   "language": "python",
   "name": "python3"
  },
  "language_info": {
   "codemirror_mode": {
    "name": "ipython",
    "version": 3
   },
   "file_extension": ".py",
   "mimetype": "text/x-python",
   "name": "python",
   "nbconvert_exporter": "python",
   "pygments_lexer": "ipython3",
   "version": "3.7.4"
  }
 },
 "nbformat": 4,
 "nbformat_minor": 2
}
